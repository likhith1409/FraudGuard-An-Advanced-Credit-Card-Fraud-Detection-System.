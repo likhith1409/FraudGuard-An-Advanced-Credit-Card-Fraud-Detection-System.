{
  "cells": [
    {
      "cell_type": "markdown",
      "metadata": {
        "id": "view-in-github",
        "colab_type": "text"
      },
      "source": [
        "<a href=\"https://colab.research.google.com/github/likhith1409/FraudGuard-An-Advanced-Credit-Card-Fraud-Detection-System./blob/main/FraudGuard_An_Advanced_Credit_Card_Fraud_Detection_System.ipynb\" target=\"_parent\"><img src=\"https://colab.research.google.com/assets/colab-badge.svg\" alt=\"Open In Colab\"/></a>"
      ]
    },
    {
      "cell_type": "markdown",
      "source": [
        "# **FraudGuard: An Advanced Credit Card Fraud Detection System**\n",
        "![credit-card-fraud.png](data:image/png;base64,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)"
      ],
      "metadata": {
        "id": "rl_-LafLdhY8"
      },
      "id": "rl_-LafLdhY8"
    },
    {
      "cell_type": "markdown",
      "source": [
        "# **Import Libraries and Load Dataset**"
      ],
      "metadata": {
        "id": "gM9J-gluZKmP"
      },
      "id": "gM9J-gluZKmP"
    },
    {
      "cell_type": "code",
      "source": [
        "import pandas as pd\n",
        "import seaborn as sns\n",
        "from sklearn.model_selection import train_test_split\n",
        "from sklearn.preprocessing import StandardScaler\n",
        "from sklearn.linear_model import LogisticRegression\n",
        "from sklearn.tree import DecisionTreeClassifier\n",
        "from sklearn.ensemble import RandomForestClassifier\n",
        "from sklearn.metrics import accuracy_score, precision_score, recall_score, f1_score\n",
        "from imblearn.over_sampling import SMOTE"
      ],
      "metadata": {
        "id": "2gkUOc-qDAeG"
      },
      "id": "2gkUOc-qDAeG",
      "execution_count": 2,
      "outputs": []
    },
    {
      "cell_type": "code",
      "source": [
        "from google.colab import files\n",
        "\n",
        "uploaded = files.upload()"
      ],
      "metadata": {
        "colab": {
          "base_uri": "https://localhost:8080/",
          "height": 73
        },
        "id": "cN3VQiYn1F6x",
        "outputId": "af8805ca-3a83-4625-f887-1d11449f6304"
      },
      "id": "cN3VQiYn1F6x",
      "execution_count": 4,
      "outputs": [
        {
          "output_type": "display_data",
          "data": {
            "text/plain": [
              "<IPython.core.display.HTML object>"
            ],
            "text/html": [
              "\n",
              "     <input type=\"file\" id=\"files-f73b1dc4-6462-48f7-8adb-7e80a0d5e55a\" name=\"files[]\" multiple disabled\n",
              "        style=\"border:none\" />\n",
              "     <output id=\"result-f73b1dc4-6462-48f7-8adb-7e80a0d5e55a\">\n",
              "      Upload widget is only available when the cell has been executed in the\n",
              "      current browser session. Please rerun this cell to enable.\n",
              "      </output>\n",
              "      <script>// Copyright 2017 Google LLC\n",
              "//\n",
              "// Licensed under the Apache License, Version 2.0 (the \"License\");\n",
              "// you may not use this file except in compliance with the License.\n",
              "// You may obtain a copy of the License at\n",
              "//\n",
              "//      http://www.apache.org/licenses/LICENSE-2.0\n",
              "//\n",
              "// Unless required by applicable law or agreed to in writing, software\n",
              "// distributed under the License is distributed on an \"AS IS\" BASIS,\n",
              "// WITHOUT WARRANTIES OR CONDITIONS OF ANY KIND, either express or implied.\n",
              "// See the License for the specific language governing permissions and\n",
              "// limitations under the License.\n",
              "\n",
              "/**\n",
              " * @fileoverview Helpers for google.colab Python module.\n",
              " */\n",
              "(function(scope) {\n",
              "function span(text, styleAttributes = {}) {\n",
              "  const element = document.createElement('span');\n",
              "  element.textContent = text;\n",
              "  for (const key of Object.keys(styleAttributes)) {\n",
              "    element.style[key] = styleAttributes[key];\n",
              "  }\n",
              "  return element;\n",
              "}\n",
              "\n",
              "// Max number of bytes which will be uploaded at a time.\n",
              "const MAX_PAYLOAD_SIZE = 100 * 1024;\n",
              "\n",
              "function _uploadFiles(inputId, outputId) {\n",
              "  const steps = uploadFilesStep(inputId, outputId);\n",
              "  const outputElement = document.getElementById(outputId);\n",
              "  // Cache steps on the outputElement to make it available for the next call\n",
              "  // to uploadFilesContinue from Python.\n",
              "  outputElement.steps = steps;\n",
              "\n",
              "  return _uploadFilesContinue(outputId);\n",
              "}\n",
              "\n",
              "// This is roughly an async generator (not supported in the browser yet),\n",
              "// where there are multiple asynchronous steps and the Python side is going\n",
              "// to poll for completion of each step.\n",
              "// This uses a Promise to block the python side on completion of each step,\n",
              "// then passes the result of the previous step as the input to the next step.\n",
              "function _uploadFilesContinue(outputId) {\n",
              "  const outputElement = document.getElementById(outputId);\n",
              "  const steps = outputElement.steps;\n",
              "\n",
              "  const next = steps.next(outputElement.lastPromiseValue);\n",
              "  return Promise.resolve(next.value.promise).then((value) => {\n",
              "    // Cache the last promise value to make it available to the next\n",
              "    // step of the generator.\n",
              "    outputElement.lastPromiseValue = value;\n",
              "    return next.value.response;\n",
              "  });\n",
              "}\n",
              "\n",
              "/**\n",
              " * Generator function which is called between each async step of the upload\n",
              " * process.\n",
              " * @param {string} inputId Element ID of the input file picker element.\n",
              " * @param {string} outputId Element ID of the output display.\n",
              " * @return {!Iterable<!Object>} Iterable of next steps.\n",
              " */\n",
              "function* uploadFilesStep(inputId, outputId) {\n",
              "  const inputElement = document.getElementById(inputId);\n",
              "  inputElement.disabled = false;\n",
              "\n",
              "  const outputElement = document.getElementById(outputId);\n",
              "  outputElement.innerHTML = '';\n",
              "\n",
              "  const pickedPromise = new Promise((resolve) => {\n",
              "    inputElement.addEventListener('change', (e) => {\n",
              "      resolve(e.target.files);\n",
              "    });\n",
              "  });\n",
              "\n",
              "  const cancel = document.createElement('button');\n",
              "  inputElement.parentElement.appendChild(cancel);\n",
              "  cancel.textContent = 'Cancel upload';\n",
              "  const cancelPromise = new Promise((resolve) => {\n",
              "    cancel.onclick = () => {\n",
              "      resolve(null);\n",
              "    };\n",
              "  });\n",
              "\n",
              "  // Wait for the user to pick the files.\n",
              "  const files = yield {\n",
              "    promise: Promise.race([pickedPromise, cancelPromise]),\n",
              "    response: {\n",
              "      action: 'starting',\n",
              "    }\n",
              "  };\n",
              "\n",
              "  cancel.remove();\n",
              "\n",
              "  // Disable the input element since further picks are not allowed.\n",
              "  inputElement.disabled = true;\n",
              "\n",
              "  if (!files) {\n",
              "    return {\n",
              "      response: {\n",
              "        action: 'complete',\n",
              "      }\n",
              "    };\n",
              "  }\n",
              "\n",
              "  for (const file of files) {\n",
              "    const li = document.createElement('li');\n",
              "    li.append(span(file.name, {fontWeight: 'bold'}));\n",
              "    li.append(span(\n",
              "        `(${file.type || 'n/a'}) - ${file.size} bytes, ` +\n",
              "        `last modified: ${\n",
              "            file.lastModifiedDate ? file.lastModifiedDate.toLocaleDateString() :\n",
              "                                    'n/a'} - `));\n",
              "    const percent = span('0% done');\n",
              "    li.appendChild(percent);\n",
              "\n",
              "    outputElement.appendChild(li);\n",
              "\n",
              "    const fileDataPromise = new Promise((resolve) => {\n",
              "      const reader = new FileReader();\n",
              "      reader.onload = (e) => {\n",
              "        resolve(e.target.result);\n",
              "      };\n",
              "      reader.readAsArrayBuffer(file);\n",
              "    });\n",
              "    // Wait for the data to be ready.\n",
              "    let fileData = yield {\n",
              "      promise: fileDataPromise,\n",
              "      response: {\n",
              "        action: 'continue',\n",
              "      }\n",
              "    };\n",
              "\n",
              "    // Use a chunked sending to avoid message size limits. See b/62115660.\n",
              "    let position = 0;\n",
              "    do {\n",
              "      const length = Math.min(fileData.byteLength - position, MAX_PAYLOAD_SIZE);\n",
              "      const chunk = new Uint8Array(fileData, position, length);\n",
              "      position += length;\n",
              "\n",
              "      const base64 = btoa(String.fromCharCode.apply(null, chunk));\n",
              "      yield {\n",
              "        response: {\n",
              "          action: 'append',\n",
              "          file: file.name,\n",
              "          data: base64,\n",
              "        },\n",
              "      };\n",
              "\n",
              "      let percentDone = fileData.byteLength === 0 ?\n",
              "          100 :\n",
              "          Math.round((position / fileData.byteLength) * 100);\n",
              "      percent.textContent = `${percentDone}% done`;\n",
              "\n",
              "    } while (position < fileData.byteLength);\n",
              "  }\n",
              "\n",
              "  // All done.\n",
              "  yield {\n",
              "    response: {\n",
              "      action: 'complete',\n",
              "    }\n",
              "  };\n",
              "}\n",
              "\n",
              "scope.google = scope.google || {};\n",
              "scope.google.colab = scope.google.colab || {};\n",
              "scope.google.colab._files = {\n",
              "  _uploadFiles,\n",
              "  _uploadFilesContinue,\n",
              "};\n",
              "})(self);\n",
              "</script> "
            ]
          },
          "metadata": {}
        },
        {
          "output_type": "stream",
          "name": "stdout",
          "text": [
            "Saving creditcard.csv to creditcard.csv\n"
          ]
        }
      ]
    },
    {
      "cell_type": "code",
      "execution_count": 5,
      "id": "33d27140",
      "metadata": {
        "papermill": {
          "duration": 4.653959,
          "end_time": "2022-10-07T09:59:08.218767",
          "exception": false,
          "start_time": "2022-10-07T09:59:03.564808",
          "status": "completed"
        },
        "tags": [],
        "id": "33d27140"
      },
      "outputs": [],
      "source": [
        "data = pd.read_csv('creditcard.csv')"
      ]
    },
    {
      "cell_type": "markdown",
      "source": [
        "# **Display Basic Information about the Dataset**"
      ],
      "metadata": {
        "id": "OM5ph_hQZZpZ"
      },
      "id": "OM5ph_hQZZpZ"
    },
    {
      "cell_type": "code",
      "source": [
        "# Display Top 5 Rows\n",
        "print(\"Top 5 Rows of the Dataset:\")\n",
        "print(data.head())\n",
        "\n",
        "# Display Last 5 Rows\n",
        "print(\"\\nLast 5 Rows of the Dataset:\")\n",
        "print(data.tail())\n",
        "\n",
        "# Find Shape of the Dataset\n",
        "print(\"\\nShape of the Dataset (Number of Rows and Number of Columns):\")\n",
        "print(\"Number of Rows:\", data.shape[0])\n",
        "print(\"Number of Columns:\", data.shape[1])"
      ],
      "metadata": {
        "id": "C-EI2Fa_Bi43",
        "colab": {
          "base_uri": "https://localhost:8080/"
        },
        "outputId": "27164dfb-335f-4d64-8840-f68ea93dfc79"
      },
      "id": "C-EI2Fa_Bi43",
      "execution_count": 6,
      "outputs": [
        {
          "output_type": "stream",
          "name": "stdout",
          "text": [
            "Top 5 Rows of the Dataset:\n",
            "   Time        V1        V2        V3        V4        V5        V6        V7  \\\n",
            "0   0.0 -1.359807 -0.072781  2.536347  1.378155 -0.338321  0.462388  0.239599   \n",
            "1   0.0  1.191857  0.266151  0.166480  0.448154  0.060018 -0.082361 -0.078803   \n",
            "2   1.0 -1.358354 -1.340163  1.773209  0.379780 -0.503198  1.800499  0.791461   \n",
            "3   1.0 -0.966272 -0.185226  1.792993 -0.863291 -0.010309  1.247203  0.237609   \n",
            "4   2.0 -1.158233  0.877737  1.548718  0.403034 -0.407193  0.095921  0.592941   \n",
            "\n",
            "         V8        V9  ...       V21       V22       V23       V24       V25  \\\n",
            "0  0.098698  0.363787  ... -0.018307  0.277838 -0.110474  0.066928  0.128539   \n",
            "1  0.085102 -0.255425  ... -0.225775 -0.638672  0.101288 -0.339846  0.167170   \n",
            "2  0.247676 -1.514654  ...  0.247998  0.771679  0.909412 -0.689281 -0.327642   \n",
            "3  0.377436 -1.387024  ... -0.108300  0.005274 -0.190321 -1.175575  0.647376   \n",
            "4 -0.270533  0.817739  ... -0.009431  0.798278 -0.137458  0.141267 -0.206010   \n",
            "\n",
            "        V26       V27       V28  Amount  Class  \n",
            "0 -0.189115  0.133558 -0.021053  149.62      0  \n",
            "1  0.125895 -0.008983  0.014724    2.69      0  \n",
            "2 -0.139097 -0.055353 -0.059752  378.66      0  \n",
            "3 -0.221929  0.062723  0.061458  123.50      0  \n",
            "4  0.502292  0.219422  0.215153   69.99      0  \n",
            "\n",
            "[5 rows x 31 columns]\n",
            "\n",
            "Last 5 Rows of the Dataset:\n",
            "            Time         V1         V2        V3        V4        V5  \\\n",
            "284802  172786.0 -11.881118  10.071785 -9.834783 -2.066656 -5.364473   \n",
            "284803  172787.0  -0.732789  -0.055080  2.035030 -0.738589  0.868229   \n",
            "284804  172788.0   1.919565  -0.301254 -3.249640 -0.557828  2.630515   \n",
            "284805  172788.0  -0.240440   0.530483  0.702510  0.689799 -0.377961   \n",
            "284806  172792.0  -0.533413  -0.189733  0.703337 -0.506271 -0.012546   \n",
            "\n",
            "              V6        V7        V8        V9  ...       V21       V22  \\\n",
            "284802 -2.606837 -4.918215  7.305334  1.914428  ...  0.213454  0.111864   \n",
            "284803  1.058415  0.024330  0.294869  0.584800  ...  0.214205  0.924384   \n",
            "284804  3.031260 -0.296827  0.708417  0.432454  ...  0.232045  0.578229   \n",
            "284805  0.623708 -0.686180  0.679145  0.392087  ...  0.265245  0.800049   \n",
            "284806 -0.649617  1.577006 -0.414650  0.486180  ...  0.261057  0.643078   \n",
            "\n",
            "             V23       V24       V25       V26       V27       V28  Amount  \\\n",
            "284802  1.014480 -0.509348  1.436807  0.250034  0.943651  0.823731    0.77   \n",
            "284803  0.012463 -1.016226 -0.606624 -0.395255  0.068472 -0.053527   24.79   \n",
            "284804 -0.037501  0.640134  0.265745 -0.087371  0.004455 -0.026561   67.88   \n",
            "284805 -0.163298  0.123205 -0.569159  0.546668  0.108821  0.104533   10.00   \n",
            "284806  0.376777  0.008797 -0.473649 -0.818267 -0.002415  0.013649  217.00   \n",
            "\n",
            "        Class  \n",
            "284802      0  \n",
            "284803      0  \n",
            "284804      0  \n",
            "284805      0  \n",
            "284806      0  \n",
            "\n",
            "[5 rows x 31 columns]\n",
            "\n",
            "Shape of the Dataset (Number of Rows and Number of Columns):\n",
            "Number of Rows: 284807\n",
            "Number of Columns: 31\n"
          ]
        }
      ]
    },
    {
      "cell_type": "markdown",
      "source": [
        "# **Explore Dataset Information**"
      ],
      "metadata": {
        "id": "KYJHhU3uZf3y"
      },
      "id": "KYJHhU3uZf3y"
    },
    {
      "cell_type": "code",
      "source": [
        "# Get Information About the Dataset\n",
        "print(\"\\nInformation About the Dataset:\")\n",
        "print(data.info())\n",
        "\n",
        "# Check Null Values\n",
        "print(\"\\nNull Values in the Dataset:\")\n",
        "print(data.isnull().sum())"
      ],
      "metadata": {
        "colab": {
          "base_uri": "https://localhost:8080/"
        },
        "id": "wmij0PC_RHmx",
        "outputId": "c3a7ff64-7b67-4272-e0b3-3f4df642993b"
      },
      "id": "wmij0PC_RHmx",
      "execution_count": 7,
      "outputs": [
        {
          "output_type": "stream",
          "name": "stdout",
          "text": [
            "\n",
            "Information About the Dataset:\n",
            "<class 'pandas.core.frame.DataFrame'>\n",
            "RangeIndex: 284807 entries, 0 to 284806\n",
            "Data columns (total 31 columns):\n",
            " #   Column  Non-Null Count   Dtype  \n",
            "---  ------  --------------   -----  \n",
            " 0   Time    284807 non-null  float64\n",
            " 1   V1      284807 non-null  float64\n",
            " 2   V2      284807 non-null  float64\n",
            " 3   V3      284807 non-null  float64\n",
            " 4   V4      284807 non-null  float64\n",
            " 5   V5      284807 non-null  float64\n",
            " 6   V6      284807 non-null  float64\n",
            " 7   V7      284807 non-null  float64\n",
            " 8   V8      284807 non-null  float64\n",
            " 9   V9      284807 non-null  float64\n",
            " 10  V10     284807 non-null  float64\n",
            " 11  V11     284807 non-null  float64\n",
            " 12  V12     284807 non-null  float64\n",
            " 13  V13     284807 non-null  float64\n",
            " 14  V14     284807 non-null  float64\n",
            " 15  V15     284807 non-null  float64\n",
            " 16  V16     284807 non-null  float64\n",
            " 17  V17     284807 non-null  float64\n",
            " 18  V18     284807 non-null  float64\n",
            " 19  V19     284807 non-null  float64\n",
            " 20  V20     284807 non-null  float64\n",
            " 21  V21     284807 non-null  float64\n",
            " 22  V22     284807 non-null  float64\n",
            " 23  V23     284807 non-null  float64\n",
            " 24  V24     284807 non-null  float64\n",
            " 25  V25     284807 non-null  float64\n",
            " 26  V26     284807 non-null  float64\n",
            " 27  V27     284807 non-null  float64\n",
            " 28  V28     284807 non-null  float64\n",
            " 29  Amount  284807 non-null  float64\n",
            " 30  Class   284807 non-null  int64  \n",
            "dtypes: float64(30), int64(1)\n",
            "memory usage: 67.4 MB\n",
            "None\n",
            "\n",
            "Null Values in the Dataset:\n",
            "Time      0\n",
            "V1        0\n",
            "V2        0\n",
            "V3        0\n",
            "V4        0\n",
            "V5        0\n",
            "V6        0\n",
            "V7        0\n",
            "V8        0\n",
            "V9        0\n",
            "V10       0\n",
            "V11       0\n",
            "V12       0\n",
            "V13       0\n",
            "V14       0\n",
            "V15       0\n",
            "V16       0\n",
            "V17       0\n",
            "V18       0\n",
            "V19       0\n",
            "V20       0\n",
            "V21       0\n",
            "V22       0\n",
            "V23       0\n",
            "V24       0\n",
            "V25       0\n",
            "V26       0\n",
            "V27       0\n",
            "V28       0\n",
            "Amount    0\n",
            "Class     0\n",
            "dtype: int64\n"
          ]
        }
      ]
    },
    {
      "cell_type": "markdown",
      "source": [
        "# **Data Preprocessing - Feature Scaling and Handling Duplicates**"
      ],
      "metadata": {
        "id": "x1J2GsIdZmlb"
      },
      "id": "x1J2GsIdZmlb"
    },
    {
      "cell_type": "code",
      "source": [
        "# Feature Scaling\n",
        "scaler = StandardScaler()\n",
        "data['Amount'] = scaler.fit_transform(pd.DataFrame(data['Amount']))\n",
        "\n",
        "# Drop the 'Time' column\n",
        "data = data.drop(['Time'], axis=1)\n",
        "\n",
        "# Remove duplicated values\n",
        "data = data.drop_duplicates()"
      ],
      "metadata": {
        "id": "kTol73rFRQsp"
      },
      "id": "kTol73rFRQsp",
      "execution_count": 8,
      "outputs": []
    },
    {
      "cell_type": "markdown",
      "source": [
        "# **Explore Class Distribution**"
      ],
      "metadata": {
        "id": "ngz2KUNdZto6"
      },
      "id": "ngz2KUNdZto6"
    },
    {
      "cell_type": "code",
      "source": [
        "# Display class distribution\n",
        "print(\"\\nClass Distribution:\")\n",
        "print(data['Class'].value_counts())\n",
        "\n",
        "# Visualize class distribution with matplotlib\n",
        "import matplotlib.pyplot as plt\n",
        "\n",
        "plt.figure(figsize=(6, 4))\n",
        "data['Class'].value_counts().plot(kind='bar', color=['skyblue', 'orange'])\n",
        "plt.title('Class Distribution')\n",
        "plt.xlabel('Class')\n",
        "plt.ylabel('Count')\n",
        "plt.xticks([0, 1], ['Normal', 'Fraud'], rotation=0)\n",
        "plt.show()"
      ],
      "metadata": {
        "colab": {
          "base_uri": "https://localhost:8080/",
          "height": 497
        },
        "id": "RZsY0LLGRVnB",
        "outputId": "5fd0c588-ca7e-4fbc-ee9e-f7927ab333a4"
      },
      "id": "RZsY0LLGRVnB",
      "execution_count": 9,
      "outputs": [
        {
          "output_type": "stream",
          "name": "stdout",
          "text": [
            "\n",
            "Class Distribution:\n",
            "0    275190\n",
            "1       473\n",
            "Name: Class, dtype: int64\n"
          ]
        },
        {
          "output_type": "display_data",
          "data": {
            "text/plain": [
              "<Figure size 600x400 with 1 Axes>"
            ],
            "image/png": "[encoded data removed]"
          },
          "metadata": {}
        }
      ]
    },
    {
      "cell_type": "markdown",
      "source": [
        "# **Train-Test Split**"
      ],
      "metadata": {
        "id": "c6WpXA6TZ1qx"
      },
      "id": "c6WpXA6TZ1qx"
    },
    {
      "cell_type": "code",
      "source": [
        "\n",
        "# Store feature matrix in X and response (target) in vector y\n",
        "X = data.drop('Class', axis=1)\n",
        "y = data['Class']\n",
        "\n",
        "# Split the dataset into the training set and test set\n",
        "X_train, X_test, y_train, y_test = train_test_split(X, y, test_size=0.20, random_state=42)\n"
      ],
      "metadata": {
        "id": "T998PgTeaHeJ"
      },
      "id": "T998PgTeaHeJ",
      "execution_count": 55,
      "outputs": []
    },
    {
      "cell_type": "markdown",
      "source": [
        "#  **Handling Imbalanced Dataset - Undersampling**"
      ],
      "metadata": {
        "id": "JjKgnBoVae6d"
      },
      "id": "JjKgnBoVae6d"
    },
    {
      "cell_type": "code",
      "source": [
        "# Undersampling\n",
        "normal = data[data['Class'] == 0]\n",
        "fraud = data[data['Class'] == 1]\n",
        "normal_sample = normal.sample(n=len(fraud))\n",
        "undersampled_data = pd.concat([normal_sample, fraud], ignore_index=True)\n",
        "\n",
        "# Visualize class distribution after undersampling with matplotlib\n",
        "import matplotlib.pyplot as plt\n",
        "\n",
        "plt.figure(figsize=(6, 4))\n",
        "undersampled_data['Class'].value_counts().plot(kind='bar', color=['skyblue', 'orange'])\n",
        "plt.title('Class Distribution After Undersampling')\n",
        "plt.xlabel('Class')\n",
        "plt.ylabel('Count')\n",
        "plt.xticks([0, 1], ['Normal', 'Fraud'], rotation=0)\n",
        "plt.show()\n",
        "\n",
        "# Split the undersampled data\n",
        "X_under, y_under = undersampled_data.drop('Class', axis=1), undersampled_data['Class']\n",
        "X_train_under, X_test_under, y_train_under, y_test_under = train_test_split(X_under, y_under, test_size=0.20, random_state=42)"
      ],
      "metadata": {
        "colab": {
          "base_uri": "https://localhost:8080/",
          "height": 410
        },
        "id": "PtN0sCEpRljx",
        "outputId": "63fc0df5-d8ff-4fa5-aa10-0b250f03fb54"
      },
      "id": "PtN0sCEpRljx",
      "execution_count": 45,
      "outputs": [
        {
          "output_type": "display_data",
          "data": {
            "text/plain": [
              "<Figure size 600x400 with 1 Axes>"
            ],
            "image/png": "[encoded data removed]"
          },
          "metadata": {}
        }
      ]
    },
    {
      "cell_type": "markdown",
      "source": [
        "# **Logistic Regression Model**"
      ],
      "metadata": {
        "id": "qoBm06vUakip"
      },
      "id": "qoBm06vUakip"
    },
    {
      "cell_type": "code",
      "source": [
        "# Train Logistic Regression\n",
        "log_model = LogisticRegression()\n",
        "log_model.fit(X_train_under, y_train_under)\n",
        "\n",
        "# Evaluate Logistic Regression\n",
        "y_pred_log = log_model.predict(X_test_under)\n",
        "print(\"\\nLogistic Regression Metrics:\")\n",
        "print(\"Accuracy:\", accuracy_score(y_test_under, y_pred_log))\n",
        "print(\"Precision:\", precision_score(y_test_under, y_pred_log))\n",
        "print(\"Recall:\", recall_score(y_test_under, y_pred_log))\n",
        "print(\"F1 Score:\", f1_score(y_test_under, y_pred_log))"
      ],
      "metadata": {
        "colab": {
          "base_uri": "https://localhost:8080/"
        },
        "id": "4PK3inkPRo4z",
        "outputId": "66111ae0-3926-439e-8c15-9e9d651a3bc5"
      },
      "id": "4PK3inkPRo4z",
      "execution_count": 46,
      "outputs": [
        {
          "output_type": "stream",
          "name": "stdout",
          "text": [
            "\n",
            "Logistic Regression Metrics:\n",
            "Accuracy: 0.9473684210526315\n",
            "Precision: 0.9791666666666666\n",
            "Recall: 0.9215686274509803\n",
            "F1 Score: 0.9494949494949494\n"
          ]
        }
      ]
    },
    {
      "cell_type": "markdown",
      "source": [
        "# **Decision Tree Model**"
      ],
      "metadata": {
        "id": "VVqFtIw5aoxh"
      },
      "id": "VVqFtIw5aoxh"
    },
    {
      "cell_type": "code",
      "source": [
        "# Train Decision Tree Classifier\n",
        "dt_model = DecisionTreeClassifier()\n",
        "dt_model.fit(X_train_under, y_train_under)\n",
        "\n",
        "# Evaluate Decision Tree Classifier\n",
        "y_pred_dt = dt_model.predict(X_test_under)\n",
        "print(\"\\nDecision Tree Classifier Metrics:\")\n",
        "print(\"Accuracy:\", accuracy_score(y_test_under, y_pred_dt))\n",
        "print(\"Precision:\", precision_score(y_test_under, y_pred_dt))\n",
        "print(\"Recall:\", recall_score(y_test_under, y_pred_dt))\n",
        "print(\"F1 Score:\", f1_score(y_test_under, y_pred_dt))\n"
      ],
      "metadata": {
        "colab": {
          "base_uri": "https://localhost:8080/"
        },
        "id": "pasnxLnJSfRB",
        "outputId": "1eedd2b5-6288-4a00-f59e-62b6dd427d52"
      },
      "id": "pasnxLnJSfRB",
      "execution_count": 47,
      "outputs": [
        {
          "output_type": "stream",
          "name": "stdout",
          "text": [
            "\n",
            "Decision Tree Classifier Metrics:\n",
            "Accuracy: 0.9052631578947369\n",
            "Precision: 0.92\n",
            "Recall: 0.9019607843137255\n",
            "F1 Score: 0.9108910891089109\n"
          ]
        }
      ]
    },
    {
      "cell_type": "markdown",
      "source": [
        "# **Random Forest Model**"
      ],
      "metadata": {
        "id": "kGmXwYPaas-4"
      },
      "id": "kGmXwYPaas-4"
    },
    {
      "cell_type": "code",
      "source": [
        "# Train Random Forest Classifier\n",
        "rf_model = RandomForestClassifier()\n",
        "rf_model.fit(X_train_under, y_train_under)\n",
        "\n",
        "# Evaluate Random Forest Classifier\n",
        "y_pred_rf = rf_model.predict(X_test_under)\n",
        "print(\"\\nRandom Forest Classifier Metrics:\")\n",
        "print(\"Accuracy:\", accuracy_score(y_test_under, y_pred_rf))\n",
        "print(\"Precision:\", precision_score(y_test_under, y_pred_rf))\n",
        "print(\"Recall:\", recall_score(y_test_under, y_pred_rf))\n",
        "print(\"F1 Score:\", f1_score(y_test_under, y_pred_rf))\n"
      ],
      "metadata": {
        "colab": {
          "base_uri": "https://localhost:8080/"
        },
        "id": "IfefuuWXSfdO",
        "outputId": "930b9ec2-c9fa-4012-b648-cb1704303a5f"
      },
      "id": "IfefuuWXSfdO",
      "execution_count": 48,
      "outputs": [
        {
          "output_type": "stream",
          "name": "stdout",
          "text": [
            "\n",
            "Random Forest Classifier Metrics:\n",
            "Accuracy: 0.9421052631578948\n",
            "Precision: 0.9690721649484536\n",
            "Recall: 0.9215686274509803\n",
            "F1 Score: 0.9447236180904522\n"
          ]
        }
      ]
    },
    {
      "cell_type": "markdown",
      "source": [
        "# **Visualize Performance Metrics**"
      ],
      "metadata": {
        "id": "9imaiLgIaxiB"
      },
      "id": "9imaiLgIaxiB"
    },
    {
      "cell_type": "code",
      "source": [
        "# Visualize Performance Metrics\n",
        "models = ['Logistic Regression', 'Decision Tree', 'Random Forest']\n",
        "metrics = ['Accuracy', 'Precision', 'Recall', 'F1 Score']\n",
        "scores = [\n",
        "    [accuracy_score(y_test_under, y_pred_log), precision_score(y_test_under, y_pred_log),\n",
        "     recall_score(y_test_under, y_pred_log), f1_score(y_test_under, y_pred_log)],\n",
        "    [accuracy_score(y_test_under, y_pred_dt), precision_score(y_test_under, y_pred_dt),\n",
        "     recall_score(y_test_under, y_pred_dt), f1_score(y_test_under, y_pred_dt)],\n",
        "    [accuracy_score(y_test_under, y_pred_rf), precision_score(y_test_under, y_pred_rf),\n",
        "     recall_score(y_test_under, y_pred_rf), f1_score(y_test_under, y_pred_rf)]\n",
        "]\n",
        "\n",
        "# Create a DataFrame for better visualization\n",
        "performance_df = pd.DataFrame({\n",
        "    'Model': models * len(metrics),\n",
        "    'Metric': metrics * len(models),\n",
        "    'Score': [score for sublist in scores for score in sublist]\n",
        "})\n",
        "\n",
        "# Plot the performance metrics\n",
        "plt.figure(figsize=(12, 8))\n",
        "sns.barplot(x='Model', y='Score', hue='Metric', data=performance_df)\n",
        "plt.title('Model Performance Metrics')\n",
        "plt.ylabel('Score')\n",
        "plt.xlabel('Model')\n",
        "plt.show()"
      ],
      "metadata": {
        "colab": {
          "base_uri": "https://localhost:8080/",
          "height": 718
        },
        "id": "p30BNY98XFzE",
        "outputId": "7a1631f4-837b-4fbc-d15c-552e924fa262"
      },
      "id": "p30BNY98XFzE",
      "execution_count": 49,
      "outputs": [
        {
          "output_type": "display_data",
          "data": {
            "text/plain": [
              "<Figure size 1200x800 with 1 Axes>"
            ],
            "image/png": "[encoded data removed]"
          },
          "metadata": {}
        }
      ]
    },
    {
      "cell_type": "markdown",
      "source": [
        "# **Visualize Confusion Matrix**"
      ],
      "metadata": {
        "id": "_N32OYT5a5l0"
      },
      "id": "_N32OYT5a5l0"
    },
    {
      "cell_type": "code",
      "source": [
        "from sklearn.metrics import confusion_matrix, accuracy_score, precision_score, recall_score\n",
        "import seaborn as sns\n",
        "import matplotlib.pyplot as plt\n",
        "\n",
        "# Assuming y_test, y_pred_log, y_pred_dt, y_pred_rf are defined\n",
        "\n",
        "models = ['Logistic Regression', 'Decision Tree', 'Random Forest']\n",
        "predictions = [y_pred_log, y_pred_dt, y_pred_rf]\n",
        "\n",
        "plt.figure(figsize=(8, 15))\n",
        "\n",
        "for i, model in enumerate(models, 1):\n",
        "    plt.subplot(3, 1, i)\n",
        "    cm = confusion_matrix(y_test_under, predictions[i-1])\n",
        "    sns.heatmap(cm, annot=True, fmt='d', cmap='BuGn', cbar=False,\n",
        "                xticklabels=['Non-Fraud', 'Fraud'], yticklabels=['Non-Fraud', 'Fraud'])\n",
        "    plt.title(f'Confusion Matrix - {model}')\n",
        "    plt.xlabel('Predicted')\n",
        "    plt.ylabel('Actual')\n",
        "\n",
        "    # Print performance metrics\n",
        "    acc = accuracy_score(y_test_under, predictions[i-1])\n",
        "    prec = precision_score(y_test_under, predictions[i-1])\n",
        "    rec = recall_score(y_test_under, predictions[i-1])\n",
        "    print(f\"\\nMetrics for {model}:\")\n",
        "    print(f\"Accuracy: {acc:.4f}\")\n",
        "    print(f\"Precision: {prec:.4f}\")\n",
        "    print(f\"Recall: {rec:.4f}\")\n",
        "\n",
        "plt.tight_layout()\n",
        "plt.show()\n",
        "\n"
      ],
      "metadata": {
        "colab": {
          "base_uri": "https://localhost:8080/",
          "height": 1000
        },
        "id": "ZrEQNeomYsge",
        "outputId": "c0b9ddd1-143d-4ebc-df91-684578891ca8"
      },
      "id": "ZrEQNeomYsge",
      "execution_count": 50,
      "outputs": [
        {
          "output_type": "stream",
          "name": "stdout",
          "text": [
            "\n",
            "Metrics for Logistic Regression:\n",
            "Accuracy: 0.9474\n",
            "Precision: 0.9792\n",
            "Recall: 0.9216\n",
            "\n",
            "Metrics for Decision Tree:\n",
            "Accuracy: 0.9053\n",
            "Precision: 0.9200\n",
            "Recall: 0.9020\n",
            "\n",
            "Metrics for Random Forest:\n",
            "Accuracy: 0.9421\n",
            "Precision: 0.9691\n",
            "Recall: 0.9216\n"
          ]
        },
        {
          "output_type": "display_data",
          "data": {
            "text/plain": [
              "<Figure size 800x1500 with 3 Axes>"
            ],
            "image/png": "[encoded data removed]"
          },
          "metadata": {}
        }
      ]
    },
    {
      "cell_type": "markdown",
      "source": [
        "# **Save Models using Pickle**"
      ],
      "metadata": {
        "id": "3tRiqBdSbES7"
      },
      "id": "3tRiqBdSbES7"
    },
    {
      "cell_type": "code",
      "source": [
        "import pickle\n",
        "\n",
        "# Save the models using pickle\n",
        "with open(\"random_forest_model.pkl\", \"wb\") as rf_file:\n",
        "    pickle.dump(rf_model, rf_file)\n",
        "\n",
        "with open(\"logistic_regression_model.pkl\", \"wb\") as log_file:\n",
        "    pickle.dump(log_model, log_file)\n",
        "\n",
        "with open(\"decision_tree_model.pkl\", \"wb\") as dt_file:\n",
        "    pickle.dump(dt_model, dt_file)\n"
      ],
      "metadata": {
        "id": "dlF6xkkLSflz"
      },
      "id": "dlF6xkkLSflz",
      "execution_count": 51,
      "outputs": []
    },
    {
      "cell_type": "markdown",
      "source": [
        "# **Example Prediction with Saved Random Forest Model using Pickle**"
      ],
      "metadata": {
        "id": "BR5qG1QxbI9j"
      },
      "id": "BR5qG1QxbI9j"
    },
    {
      "cell_type": "code",
      "source": [
        "# Cell 12: Example Prediction with Saved Random Forest Model using Pickle\n",
        "# Load the Random Forest model using pickle\n",
        "with open(\"random_forest_model.pkl\", \"rb\") as rf_file:\n",
        "    loaded_model_rf_pickle = pickle.load(rf_file)\n",
        "\n",
        "# Example Prediction with the loaded Random Forest model\n",
        "example_input_features_df = pd.DataFrame([[1, 1, 1, 1, 1, 1, 1, 25, 1, 1, 1, 1, 1, 1, 1, 1, 1, 1, 1, 1, 1, 1, 1, 1, 1, 1, 1, 1, 1]],\n",
        "                                          columns=X.columns)\n",
        "\n",
        "example_prediction_rf_pickle = loaded_model_rf_pickle.predict(example_input_features_df)\n",
        "\n",
        "print(\"\\nExample Prediction with Loaded Random Forest Model (Pickle):\", \"Normal Transaction\" if example_prediction_rf_pickle == 0 else \"Fraudulent Transaction\")\n"
      ],
      "metadata": {
        "colab": {
          "base_uri": "https://localhost:8080/"
        },
        "id": "fjcNFnoGSfrD",
        "outputId": "7089b98c-4044-4e46-f4a6-250125c948f0"
      },
      "id": "fjcNFnoGSfrD",
      "execution_count": 52,
      "outputs": [
        {
          "output_type": "stream",
          "name": "stdout",
          "text": [
            "\n",
            "Example Prediction with Loaded Random Forest Model (Pickle): Normal Transaction\n"
          ]
        }
      ]
    },
    {
      "cell_type": "markdown",
      "source": [
        "# **Example Prediction with Saved Decision Tree Model using Pickle**"
      ],
      "metadata": {
        "id": "fHU8or4ybQmq"
      },
      "id": "fHU8or4ybQmq"
    },
    {
      "cell_type": "code",
      "source": [
        "# Load the Decision Tree model using pickle\n",
        "with open(\"decision_tree_model.pkl\", \"rb\") as dt_file:\n",
        "    loaded_model_dt_pickle = pickle.load(dt_file)\n",
        "\n",
        "# Example input features for Decision Tree\n",
        "example_input_features_dt_df = pd.DataFrame([[1, 1, 1, 1, 1, 1, 1, 25, 1, 1, 1, 1, 1, 1, 1, 1, 1, 1, 1, 1, 1, 1, 1, 1, 1, 1, 1, 1, 1]],\n",
        "                                          columns=X.columns)\n",
        "\n",
        "# Ensure the number of columns matches the number of features used during training\n",
        "assert len(example_input_features_dt_df.columns) == loaded_model_dt_pickle.n_features_in_, \\\n",
        "    \"Number of columns in the DataFrame does not match the model's expectations.\"\n",
        "\n",
        "# Make sure the order of columns matches the order used during training\n",
        "example_input_features_dt_df = example_input_features_dt_df[X.columns]\n",
        "\n",
        "# Make prediction\n",
        "example_prediction_dt_pickle = loaded_model_dt_pickle.predict(example_input_features_dt_df)\n",
        "\n",
        "print(\"\\nExample Prediction with Loaded Decision Tree Model (Pickle):\",\n",
        "      \"Normal Transaction\" if example_prediction_dt_pickle == 0 else \"Fraudulent Transaction\")\n"
      ],
      "metadata": {
        "colab": {
          "base_uri": "https://localhost:8080/"
        },
        "id": "kqiPWei-Sfxw",
        "outputId": "003bbf85-93ac-4c27-ebc4-f4e242e126af"
      },
      "id": "kqiPWei-Sfxw",
      "execution_count": 53,
      "outputs": [
        {
          "output_type": "stream",
          "name": "stdout",
          "text": [
            "\n",
            "Example Prediction with Loaded Decision Tree Model (Pickle): Normal Transaction\n"
          ]
        }
      ]
    },
    {
      "cell_type": "markdown",
      "source": [
        "# **Example Prediction with Saved Logistic Regression Model using Pickle**"
      ],
      "metadata": {
        "id": "EFsK4q7ybhIh"
      },
      "id": "EFsK4q7ybhIh"
    },
    {
      "cell_type": "code",
      "source": [
        "with open(\"logistic_regression_model.pkl\", \"rb\") as log_file:\n",
        "    loaded_model_log_pickle = pickle.load(log_file)\n",
        "\n",
        "# Example input features for Logistic Regression\n",
        "example_input_features_log_df = pd.DataFrame([[1, 1, 1, 1, 1, 1, 1, 25, 1, 1, 1, 1, 1, 1, 1, 1, 1, 1, 1, 1, 1, 1, 1, 1, 1, 1, 1, 1, 1]],\n",
        "                                          columns=X.columns)\n",
        "\n",
        "# Ensure the number of columns matches the number of features used during training\n",
        "assert len(example_input_features_log_df.columns) == loaded_model_log_pickle.n_features_in_, \\\n",
        "    \"Number of columns in the DataFrame does not match the model's expectations.\"\n",
        "\n",
        "# Make sure the order of columns matches the order used during training\n",
        "example_input_features_log_df = example_input_features_log_df[X.columns]\n",
        "\n",
        "# Make prediction\n",
        "example_prediction_log_pickle = loaded_model_log_pickle.predict(example_input_features_log_df)\n",
        "\n",
        "print(\"\\nExample Prediction with Loaded Logistic Regression Model (Pickle):\",\n",
        "      \"Normal Transaction\" if example_prediction_log_pickle == 0 else \"Fraudulent Transaction\")\n"
      ],
      "metadata": {
        "colab": {
          "base_uri": "https://localhost:8080/"
        },
        "id": "sXk-KSpTUy5l",
        "outputId": "da1cfb12-1f0a-43cd-edd5-b2c99be037da"
      },
      "id": "sXk-KSpTUy5l",
      "execution_count": 54,
      "outputs": [
        {
          "output_type": "stream",
          "name": "stdout",
          "text": [
            "\n",
            "Example Prediction with Loaded Logistic Regression Model (Pickle): Normal Transaction\n"
          ]
        }
      ]
    }
  ],
  "metadata": {
    "kernelspec": {
      "display_name": "Python 3 (ipykernel)",
      "language": "python",
      "name": "python3"
    },
    "language_info": {
      "codemirror_mode": {
        "name": "ipython",
        "version": 3
      },
      "file_extension": ".py",
      "mimetype": "text/x-python",
      "name": "python",
      "nbconvert_exporter": "python",
      "pygments_lexer": "ipython3",
      "version": "3.12.1"
    },
    "papermill": {
      "default_parameters": {},
      "duration": 1142.417884,
      "end_time": "2022-10-07T10:17:56.677779",
      "environment_variables": {},
      "exception": null,
      "input_path": "__notebook__.ipynb",
      "output_path": "__notebook__.ipynb",
      "parameters": {},
      "start_time": "2022-10-07T09:58:54.259895",
      "version": "2.3.4"
    },
    "colab": {
      "provenance": [],
      "include_colab_link": true
    }
  },
  "nbformat": 4,
  "nbformat_minor": 5
}